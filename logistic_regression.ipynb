{
 "cells": [
  {
   "cell_type": "code",
   "execution_count": 8,
   "metadata": {},
   "outputs": [],
   "source": [
    "from sklearn.linear_model import LogisticRegression\n",
    "import pandas as pd\n",
    "from sklearn.model_selection import train_test_split\n",
    "from sklearn.metrics import accuracy_score\n",
    "from sklearn.metrics import recall_score"
   ]
  },
  {
   "cell_type": "code",
   "execution_count": 2,
   "metadata": {},
   "outputs": [
    {
     "name": "stdout",
     "output_type": "stream",
     "text": [
      "       gender   age  hypertension  heart_disease  smoking_history    bmi  \\\n",
      "0      Female  80.0             0              1                1  25.19   \n",
      "1      Female  54.0             0              0                6  27.32   \n",
      "2        Male  28.0             0              0                1  27.32   \n",
      "3      Female  36.0             0              0                4  23.45   \n",
      "4        Male  76.0             1              1                4  20.14   \n",
      "...       ...   ...           ...            ...              ...    ...   \n",
      "99995  Female  80.0             0              0                6  27.32   \n",
      "99996  Female   2.0             0              0                6  17.37   \n",
      "99997    Male  66.0             0              0                3  27.83   \n",
      "99998  Female  24.0             0              0                1  35.42   \n",
      "99999  Female  57.0             0              0                4  22.43   \n",
      "\n",
      "       HbA1c_level  blood_glucose_level  diabetes  \n",
      "0              6.6                  140         0  \n",
      "1              6.6                   80         0  \n",
      "2              5.7                  158         0  \n",
      "3              5.0                  155         0  \n",
      "4              4.8                  155         0  \n",
      "...            ...                  ...       ...  \n",
      "99995          6.2                   90         0  \n",
      "99996          6.5                  100         0  \n",
      "99997          5.7                  155         0  \n",
      "99998          4.0                  100         0  \n",
      "99999          6.6                   90         0  \n",
      "\n",
      "[100000 rows x 9 columns]\n"
     ]
    }
   ],
   "source": [
    "df = pd.read_csv('diabetes.csv')\n",
    "\n",
    "\n",
    "#describ\n",
    "df['smoking_history'] = df['smoking_history'].replace('never', 1)\n",
    "df['smoking_history'] = df['smoking_history'].replace('not current', 2)\n",
    "df['smoking_history'] = df['smoking_history'].replace('former', 3)\n",
    "df['smoking_history'] = df['smoking_history'].replace('current',4)\n",
    "df['smoking_history'] = df['smoking_history'].replace('ever', 5)\n",
    "df['smoking_history'] = df['smoking_history'].replace('No Info', 6)\n",
    "print(df)\n",
    "\n"
   ]
  },
  {
   "cell_type": "code",
   "execution_count": 3,
   "metadata": {},
   "outputs": [],
   "source": [
    "X_train, X_test, y_train, y_test = train_test_split(df.iloc[:,1:8], df['diabetes'])\n"
   ]
  },
  {
   "cell_type": "code",
   "execution_count": 9,
   "metadata": {},
   "outputs": [
    {
     "name": "stdout",
     "output_type": "stream",
     "text": [
      "0.96032 0.6093972472710014\n",
      "0.96056 0.6231608922638823\n",
      "0.96052 0.6236355007119126\n",
      "0.96048 0.624110109159943\n",
      "0.96044 0.6236355007119126\n"
     ]
    }
   ],
   "source": [
    "cs = [0.01, 0.1, 1, 10, 100]\n",
    "\n",
    "for c in cs:\n",
    "    LR = LogisticRegression(max_iter = 1000000, C = c)\n",
    "    LR.fit(X_train, y_train)\n",
    "\n",
    "    y_pred = LR.predict(X_test)\n",
    "\n",
    "    score = accuracy_score(y_test, y_pred)\n",
    "    r_score = recall_score(y_test, y_pred)\n",
    "    print(score, r_score)"
   ]
  },
  {
   "cell_type": "code",
   "execution_count": 10,
   "metadata": {},
   "outputs": [
    {
     "name": "stdout",
     "output_type": "stream",
     "text": [
      "0.96048\n"
     ]
    }
   ],
   "source": [
    "LR = LogisticRegression(max_iter = 1000000, C = 10)\n",
    "LR.fit(X_train, y_train)\n",
    "\n",
    "y_pred = LR.predict(X_test)\n",
    "\n",
    "score = accuracy_score(y_test, y_pred)\n",
    "print(score)"
   ]
  }
 ],
 "metadata": {
  "kernelspec": {
   "display_name": "base",
   "language": "python",
   "name": "python3"
  },
  "language_info": {
   "codemirror_mode": {
    "name": "ipython",
    "version": 3
   },
   "file_extension": ".py",
   "mimetype": "text/x-python",
   "name": "python",
   "nbconvert_exporter": "python",
   "pygments_lexer": "ipython3",
   "version": "3.7.6"
  }
 },
 "nbformat": 4,
 "nbformat_minor": 2
}
