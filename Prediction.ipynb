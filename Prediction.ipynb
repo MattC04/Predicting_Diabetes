{
 "cells": [
  {
   "cell_type": "code",
   "execution_count": 13,
   "metadata": {},
   "outputs": [
    {
     "name": "stdout",
     "output_type": "stream",
     "text": [
      "0        1\n",
      "1        6\n",
      "2        1\n",
      "3        4\n",
      "4        4\n",
      "        ..\n",
      "99995    6\n",
      "99996    6\n",
      "99997    3\n",
      "99998    1\n",
      "99999    4\n",
      "Name: smoking_history, Length: 100000, dtype: int64\n"
     ]
    }
   ],
   "source": [
    "import numpy as np\n",
    "import pandas as pd\n",
    "from sklearn.model_selection import train_test_split\n",
    "\n",
    "#import dataset\n",
    "df = pd.read_csv('diabetes.csv')\n",
    "\n",
    "\n",
    "#describ\n",
    "df['smoking_history'] = df['smoking_history'].replace('never', 1)\n",
    "df['smoking_history'] = df['smoking_history'].replace('not current', 2)\n",
    "df['smoking_history'] = df['smoking_history'].replace('former', 3)\n",
    "df['smoking_history'] = df['smoking_history'].replace('current',4)\n",
    "df['smoking_history'] = df['smoking_history'].replace('ever', 5)\n",
    "df['smoking_history'] = df['smoking_history'].replace('No Info', 6)\n",
    "print(df['smoking_history'])\n"
   ]
  },
  {
   "cell_type": "code",
   "execution_count": null,
   "metadata": {},
   "outputs": [],
   "source": [
    "# introduction to dataset, explain variables\n",
    "    #FP, TP etc\n",
    "# basic visualizations \n",
    "# SVM, decision tree, random forest, KNN, NN, logistic \n",
    "    #decision tree, random forest - Tiff\n",
    "    #logistic regression - Austin\n",
    "    #KNN - Matt\n",
    "    #SVM - Grace\n",
    "    #NN - Kevin \n",
    "\n",
    "# model evaluation, optimization \n",
    "# conclusion, what we arrived at and what we can improve on"
   ]
  }
 ],
 "metadata": {
  "kernelspec": {
   "display_name": "base",
   "language": "python",
   "name": "python3"
  },
  "language_info": {
   "codemirror_mode": {
    "name": "ipython",
    "version": 3
   },
   "file_extension": ".py",
   "mimetype": "text/x-python",
   "name": "python",
   "nbconvert_exporter": "python",
   "pygments_lexer": "ipython3",
   "version": "3.11.7"
  }
 },
 "nbformat": 4,
 "nbformat_minor": 2
}
